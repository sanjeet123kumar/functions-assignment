{
  "nbformat": 4,
  "nbformat_minor": 0,
  "metadata": {
    "colab": {
      "provenance": []
    },
    "kernelspec": {
      "name": "python3",
      "display_name": "Python 3"
    },
    "language_info": {
      "name": "python"
    }
  },
  "cells": [
    {
      "cell_type": "markdown",
      "source": [
        "**Functions**\n"
      ],
      "metadata": {
        "id": "AHFgEKNvCldT"
      }
    },
    {
      "cell_type": "markdown",
      "source": [
        "1. What is the difference between a function and a method in Python?\n",
        "   -A function is a block of reusable code that performs a specific task.\n",
        "\n",
        "It is defined using the def keyword and can exist independently of classes and objects."
      ],
      "metadata": {
        "id": "F_uZiaSYCvA3"
      }
    },
    {
      "cell_type": "code",
      "source": [
        "#Example\n",
        "def say_hello(name):\n",
        "    return f\"Hello, {name}!\"\n",
        "\n",
        "print(say_hello(\"saneet\"))"
      ],
      "metadata": {
        "colab": {
          "base_uri": "https://localhost:8080/"
        },
        "id": "a5nsBF3OFKvI",
        "outputId": "516634d0-3628-4db2-c742-bba0e4fa8ffd"
      },
      "execution_count": null,
      "outputs": [
        {
          "output_type": "stream",
          "name": "stdout",
          "text": [
            "Hello, saneet!\n"
          ]
        }
      ]
    },
    {
      "cell_type": "markdown",
      "source": [],
      "metadata": {
        "id": "jM73iAm0NCGu"
      }
    },
    {
      "cell_type": "code",
      "source": [
        "#method call\n",
        "class Greeter:\n",
        "    def say_hello(self, name):\n",
        "        return f\"Hello, {name}!\"\n",
        "\n",
        "g = Greeter()\n",
        "print(g.say_hello(\"sanjeet\"))"
      ],
      "metadata": {
        "colab": {
          "base_uri": "https://localhost:8080/"
        },
        "id": "l96fr1n0Fump",
        "outputId": "80ee7ff6-7be3-4b50-b8c7-36fb28b34e06"
      },
      "execution_count": null,
      "outputs": [
        {
          "output_type": "stream",
          "name": "stdout",
          "text": [
            "Hello, sanjeet!\n"
          ]
        }
      ]
    },
    {
      "cell_type": "markdown",
      "source": [
        "2.Second question\n",
        "-Arguments are the actual values passed to the function when it is called function argument."
      ],
      "metadata": {
        "id": "HCb_vzJnJTDh"
      }
    },
    {
      "cell_type": "code",
      "source": [
        "#Example\n",
        "def greet(name):\n",
        "    print(f\"Hello, {name}!\")"
      ],
      "metadata": {
        "id": "LsH62CgkKF7f"
      },
      "execution_count": null,
      "outputs": []
    },
    {
      "cell_type": "markdown",
      "source": [
        " Arguments\n",
        "-Arguments are the actual values passed to the function when it is called."
      ],
      "metadata": {
        "id": "kzuVtkNHKaos"
      }
    },
    {
      "cell_type": "code",
      "source": [
        "greet(\"sanjeet\")"
      ],
      "metadata": {
        "colab": {
          "base_uri": "https://localhost:8080/"
        },
        "id": "S966PPlJKmZ5",
        "outputId": "b55ebb27-ef7f-4025-a4ab-10fdab94d345"
      },
      "execution_count": null,
      "outputs": [
        {
          "output_type": "stream",
          "name": "stdout",
          "text": [
            "Hello, sanjeet!\n"
          ]
        }
      ]
    },
    {
      "cell_type": "markdown",
      "source": [
        "Types of Arguments in Python:\n",
        "Python supports several ways to pass arguments:\n",
        "Positional arguments – Passed in order:\n",
        "\n",
        "\n"
      ],
      "metadata": {
        "id": "_iV1Jw2OK0xD"
      }
    },
    {
      "cell_type": "code",
      "source": [
        "def add(a, b):\n",
        "    return a + b\n",
        "    add(3,5)"
      ],
      "metadata": {
        "id": "XuDUPClHLEHv"
      },
      "execution_count": null,
      "outputs": []
    },
    {
      "cell_type": "markdown",
      "source": [
        "2.Keyword arguments – Passed by name:"
      ],
      "metadata": {
        "id": "KcGFFGB1LWCJ"
      }
    },
    {
      "cell_type": "code",
      "source": [
        "add(a=3, b=5)"
      ],
      "metadata": {
        "colab": {
          "base_uri": "https://localhost:8080/"
        },
        "id": "SdNk4wgLLZiN",
        "outputId": "bffc1a0e-dc40-4476-d1aa-3a52ad7d1cd0"
      },
      "execution_count": null,
      "outputs": [
        {
          "output_type": "execute_result",
          "data": {
            "text/plain": [
              "8"
            ]
          },
          "metadata": {},
          "execution_count": 20
        }
      ]
    },
    {
      "cell_type": "markdown",
      "source": [
        "3.Default parameters – Have default values if not provided:"
      ],
      "metadata": {
        "id": "-gs923fRLf-B"
      }
    },
    {
      "cell_type": "code",
      "source": [
        "def greet(name=\"Guest\"):\n",
        "    print(f\"Hello, {name}!\")\n",
        "    greet()"
      ],
      "metadata": {
        "id": "FvP3GkWoLk56"
      },
      "execution_count": null,
      "outputs": []
    },
    {
      "cell_type": "markdown",
      "source": [
        "Variable-length arguments:\n",
        "\n",
        "args for any number of positional arguments\n",
        "kwargs for any number of keyword *arguments"
      ],
      "metadata": {
        "id": "T14qzcXZLuzF"
      }
    },
    {
      "cell_type": "code",
      "source": [
        "def print_args(*args):\n",
        "    for arg in args:\n",
        "        print(arg)\n",
        "\n",
        "def print_kwargs(**kwargs):\n",
        "    for key, value in kwargs.items():\n",
        "        print(key, value)"
      ],
      "metadata": {
        "id": "2Pmt3pjQMS7T"
      },
      "execution_count": null,
      "outputs": []
    },
    {
      "cell_type": "markdown",
      "source": [
        "3. Third question answer\n",
        "-we define a function using the def keyword and then call it by its name."
      ],
      "metadata": {
        "id": "Y0waUAOwNbph"
      }
    },
    {
      "cell_type": "code",
      "source": [
        "def say_hello():\n",
        "    print(\"Hello, World!\")"
      ],
      "metadata": {
        "id": "1mNFf1U5N4a_"
      },
      "execution_count": null,
      "outputs": []
    },
    {
      "cell_type": "markdown",
      "source": [
        ". Function with Return Value:\n",
        "A function can also return a value that can be used later.\n",
        "\n",
        "Define the function with a return value:\n",
        "\n"
      ],
      "metadata": {
        "id": "07xWeO8mOZw2"
      }
    },
    {
      "cell_type": "code",
      "source": [
        "def add(a, b):\n",
        "    return a + b\n",
        "    #Call the function and use its result:\n",
        "    result = add(3, 4)"
      ],
      "metadata": {
        "id": "nxQh-yIrOfPe"
      },
      "execution_count": null,
      "outputs": []
    },
    {
      "cell_type": "markdown",
      "source": [
        "4.forth question answer\n",
        "-The return statement in a Python function is used to send back a value from the function to the place where it was called. It ends the function’s execution and provides the result that can be used or stored elsewhere in the program.\n",
        "\n",
        "Purpose of the return statement:\n",
        "1. Returns a value to the caller.\n",
        "2. Ends the function immediately when it's called.\n",
        "3. Allows functions to be used in expressions or assigned to variables."
      ],
      "metadata": {
        "id": "-PNRrV67P7ng"
      }
    },
    {
      "cell_type": "code",
      "source": [
        "#example\n",
        "def add(a, b):\n",
        "    return a + b\n",
        "\n",
        "result = add(5, 3)\n",
        "print(result)  # Output: 8"
      ],
      "metadata": {
        "colab": {
          "base_uri": "https://localhost:8080/"
        },
        "id": "KvYKVv-KQ1Az",
        "outputId": "64eaf5eb-b3a1-4a15-8c39-d0e8303454e4"
      },
      "execution_count": null,
      "outputs": [
        {
          "output_type": "stream",
          "name": "stdout",
          "text": [
            "8\n"
          ]
        }
      ]
    },
    {
      "cell_type": "markdown",
      "source": [
        "5. question answer\n",
        "- iterators and iterables are both used to loop over a sequence of elements, but they are not the same thing.\n",
        "Iterable:\n",
        "An iterable is any Python object that can return its elements one at a time.\n",
        "\n",
        "It must implement the __iter__() method.\n",
        "\n",
        "Examples: lists, strings, tuples, dictionaries, and sets.\n",
        "\n",
        "Iterator:\n",
        "An iterator is an object that keeps track of its current position while iterating.\n",
        "\n",
        "It implements both __iter__() and __next__() methods.\n",
        "\n",
        "You can get an iterator from an iterable using the iter() function.\n",
        "\n",
        "python\n",
        "Copy code\n",
        "\n"
      ],
      "metadata": {
        "id": "tM1MacefRKBe"
      }
    },
    {
      "cell_type": "markdown",
      "source": [
        "6. sixth question answer\n",
        "-generators are a special type of iterator used to generate values on the fly, instead of storing them all at once in memory. They are memory-efficient and often used to work with large data sets or streams.\n",
        "\n",
        "Generators can be created in two ways:\n",
        "\n",
        "1. Using a function with the yield keyword:\n",
        "When a function contains yield instead of return, it becomes a generator.\n",
        "\n",
        "Each time yield is called, the function pauses and saves its state, then resumes from there when called again.\n",
        "\n",
        "\n"
      ],
      "metadata": {
        "id": "tOw_kfGuRfSS"
      }
    },
    {
      "cell_type": "code",
      "source": [
        "#example\n",
        "def count_up_to(n):\n",
        "    i = 1\n",
        "    while i <= n:\n",
        "        yield i\n",
        "        i += 1\n",
        "\n",
        "for number in count_up_to(3):\n",
        "    print(number)"
      ],
      "metadata": {
        "colab": {
          "base_uri": "https://localhost:8080/"
        },
        "id": "bIqgzEqDR8vG",
        "outputId": "2e315899-14c1-489b-da3d-d096da3b69a5"
      },
      "execution_count": null,
      "outputs": [
        {
          "output_type": "stream",
          "name": "stdout",
          "text": [
            "1\n",
            "2\n",
            "3\n"
          ]
        }
      ]
    },
    {
      "cell_type": "markdown",
      "source": [
        "7. seventh question answer\n",
        "    -Advantages of Generators:\n",
        "1. Memory Efficiency\n",
        "Generators yield one item at a time instead of storing the entire result in memory.\n",
        "\n",
        "Useful when working with large files, data streams, or infinite sequences.\n",
        "\n",
        "2. Faster Startup Time\n",
        "Since values are produced one at a time, the generator starts execution immediately, without waiting to build the whole result.\n",
        "\n",
        "3. Lazy Evaluation\n",
        "Values are generated only when needed, which reduces unnecessary computation.\n",
        "\n",
        "4. Simpler Code\n",
        "Generators make code easier to write and read, compared to managing state with iterator classes.\n",
        "\n",
        "5. State Retention\n",
        "Each time the generator is paused with yield, it remembers its place and resumes from there—great for handling sequences step-by-step."
      ],
      "metadata": {
        "id": "NbUXUraQSJn_"
      }
    },
    {
      "cell_type": "code",
      "source": [
        "#example\n",
        "def get_numbers():\n",
        "    return [i for i in range(1000000)]  # stores all numbers in memory\n"
      ],
      "metadata": {
        "id": "gfwC2VdDSsvm"
      },
      "execution_count": null,
      "outputs": []
    },
    {
      "cell_type": "markdown",
      "source": [
        "8. eighth question answer\n",
        "  -A lambda function in Python is a small, anonymous function that is defined using the lambda keyword instead of the regular def keyword. It is used for creating short, one-line functions without giving them a name.\n",
        "\n",
        "  When is it typically used?\n",
        "Lambda functions are commonly used when:\n",
        "\n",
        "You need a short function temporarily.\n",
        "\n",
        "You’re passing a function as an argument (e.g., in map(), filter(), or sorted()).\n",
        "\n",
        "You want cleaner, more compact code.\n",
        "\n"
      ],
      "metadata": {
        "id": "aWCOYMEKTBDi"
      }
    },
    {
      "cell_type": "code",
      "source": [
        "# Sort a list of tuples by the second value\n",
        "pairs = [(1, 2), (3, 1), (5, 0)]\n",
        "pairs.sort(key=lambda x: x[1])\n",
        "print(pairs)  # Output: [(5, 0), (3, 1), (1, 2)]\n"
      ],
      "metadata": {
        "colab": {
          "base_uri": "https://localhost:8080/"
        },
        "id": "8G97pjQRTiZ4",
        "outputId": "379ed47b-df18-4e65-8364-9a702b3a4c42"
      },
      "execution_count": null,
      "outputs": [
        {
          "output_type": "stream",
          "name": "stdout",
          "text": [
            "[(5, 0), (3, 1), (1, 2)]\n"
          ]
        }
      ]
    },
    {
      "cell_type": "markdown",
      "source": [
        "9. nineth question answer\n",
        "  -The map() function in Python is used to apply a function to every item in an iterable (like a list or tuple) and returns a new iterable (a map object) with the results.\n",
        "  Purpose:\n",
        "To transform each element in a sequence by applying a given function, without writing a loop manually.\n",
        "map(function, iterable)\n",
        "function: a function to apply (can be a regular or lambda function)\n",
        "iterable: a sequence (like list, tuple, etc.)\n",
        "\n",
        "\n"
      ],
      "metadata": {
        "id": "QU0t5nbQTllC"
      }
    },
    {
      "cell_type": "code",
      "source": [
        "#example\n",
        "def square(x):\n",
        "    return x * x\n",
        "\n",
        "numbers = [1, 2, 3, 4]\n",
        "result = map(square, numbers)\n",
        "print(list(result))  # Output: [1, 4, 9, 16]\n"
      ],
      "metadata": {
        "colab": {
          "base_uri": "https://localhost:8080/"
        },
        "id": "1JoE2Sy4UVsK",
        "outputId": "884a2b40-0cb4-4fa1-ebc1-2946d971bd63"
      },
      "execution_count": null,
      "outputs": [
        {
          "output_type": "stream",
          "name": "stdout",
          "text": [
            "[1, 4, 9, 16]\n"
          ]
        }
      ]
    },
    {
      "cell_type": "markdown",
      "source": [
        "map() returns a map object (which is an iterator), so you often wrap it with list() or tuple() to see the results.\n",
        "\n",
        "It’s useful when you want to apply the same operation to each item in a collection.\n",
        "\n"
      ],
      "metadata": {
        "id": "U4iyn-mmUf1b"
      }
    },
    {
      "cell_type": "markdown",
      "source": [
        "10. tenth question answer\n",
        "  -map(), reduce(), and filter() are functional programming tools used to process data in iterables like lists and tuples. Each has a different purpose:\n",
        "  🔹 map(function, iterable)\n",
        "Purpose: Applies a function to each item in an iterable.\n",
        "\n",
        "Returns: A new iterable with transformed items.\n",
        "\n"
      ],
      "metadata": {
        "id": "ErVdO5OcUleh"
      }
    },
    {
      "cell_type": "code",
      "source": [
        "numbers = [1, 2, 3]\n",
        "result = map(lambda x: x * 2, numbers)\n",
        "print(list(result))  # Output: [2, 4, 6]\n"
      ],
      "metadata": {
        "colab": {
          "base_uri": "https://localhost:8080/"
        },
        "id": "zMlY-rWmU8L-",
        "outputId": "057904e6-5459-4331-a7ba-91fbfe96f98f"
      },
      "execution_count": null,
      "outputs": [
        {
          "output_type": "stream",
          "name": "stdout",
          "text": [
            "[2, 4, 6]\n"
          ]
        }
      ]
    },
    {
      "cell_type": "markdown",
      "source": [
        "🔹 filter(function, iterable)\n",
        "Purpose: Filters out items in an iterable for which the function returns True.\n",
        "\n",
        "Returns: A new iterable with only the filtered items."
      ],
      "metadata": {
        "id": "EapbxKTAU__B"
      }
    },
    {
      "cell_type": "code",
      "source": [
        "numbers = [1, 2, 3, 4]\n",
        "result = filter(lambda x: x % 2 == 0, numbers)\n",
        "print(list(result))  # Output: [2, 4]\n"
      ],
      "metadata": {
        "colab": {
          "base_uri": "https://localhost:8080/"
        },
        "id": "-hae9t7mVB5E",
        "outputId": "b1411661-1239-47f8-a098-621c6aa6357d"
      },
      "execution_count": null,
      "outputs": [
        {
          "output_type": "stream",
          "name": "stdout",
          "text": [
            "[2, 4]\n"
          ]
        }
      ]
    },
    {
      "cell_type": "markdown",
      "source": [
        "🔹 reduce(function, iterable)\n",
        "Purpose: Repeatedly applies a function to the items of an iterable, reducing it to a single value.\n",
        "\n",
        "Returns: A single result.\n",
        "\n",
        "Must be imported from functools."
      ],
      "metadata": {
        "id": "Umw-Qt0GVF7f"
      }
    },
    {
      "cell_type": "code",
      "source": [
        "from functools import reduce\n",
        "\n",
        "numbers = [1, 2, 3, 4]\n",
        "result = reduce(lambda x, y: x + y, numbers)\n",
        "print(result)  # Output: 10\n"
      ],
      "metadata": {
        "colab": {
          "base_uri": "https://localhost:8080/"
        },
        "id": "bsa6FecEVHDP",
        "outputId": "179fda8c-2841-46b9-bc72-5fd71d8edc90"
      },
      "execution_count": null,
      "outputs": [
        {
          "output_type": "stream",
          "name": "stdout",
          "text": [
            "10\n"
          ]
        }
      ]
    },
    {
      "cell_type": "markdown",
      "source": [
        "Use **map** to modify elements,\n",
        "\n",
        "Use **filter** to select elements,\n",
        "\n",
        "Use **reduce** to combine elements."
      ],
      "metadata": {
        "id": "-P16coSVVOWD"
      }
    },
    {
      "cell_type": "markdown",
      "source": [
        "11. eleventh question answer\n",
        "  -Given:\n",
        "List = [47, 11, 42, 13]\n",
        "\n",
        "We want to sum all elements using reduce()."
      ],
      "metadata": {
        "id": "v6fWlHA7Vexn"
      }
    },
    {
      "cell_type": "code",
      "source": [
        "from functools import reduce\n",
        "reduce(lambda x, y: x + y, [47, 11, 42, 13])\n"
      ],
      "metadata": {
        "colab": {
          "base_uri": "https://localhost:8080/"
        },
        "id": "VnkkACLKVrYJ",
        "outputId": "5fcaac7b-46eb-46a5-883d-e89ac76f4b68"
      },
      "execution_count": null,
      "outputs": [
        {
          "output_type": "execute_result",
          "data": {
            "text/plain": [
              "113"
            ]
          },
          "metadata": {},
          "execution_count": 42
        }
      ]
    },
    {
      "cell_type": "markdown",
      "source": [
        "1. Step-by-step (internal working):\n",
        "Start with the first two elements:\n",
        "Step 1: x = 47, y = 11 → x + y = 58\n",
        "2. Take the result (58) and apply the function to the next element:\n",
        "Copy code\n",
        "Step 2: x = 58, y = 42 → x + y = 100\n",
        "3. Again, take the result (100) and apply it to the next element:\n",
        "Copy code\n",
        "Step 3: x = 100, y = 13 → x + y = 113"
      ],
      "metadata": {
        "id": "xfzYIa2rVvm1"
      }
    },
    {
      "cell_type": "markdown",
      "source": [
        "**practical Question**\n",
        "1. first question answer\n",
        "  - Python function that takes a list of numbers and returns the sum of all even numbers in the list:"
      ],
      "metadata": {
        "id": "6lNfzIWafsxk"
      }
    },
    {
      "cell_type": "code",
      "source": [
        "def sum_even_numbers(numbers):\n",
        "    return sum(num for num in numbers if num % 2 == 0)\n",
        "\n",
        "# Example usage:\n",
        "my_list = [1, 2, 3, 4, 5, 6]\n",
        "result = sum_even_numbers(my_list)\n",
        "print(\"Sum of even numbers:\", result)\n"
      ],
      "metadata": {
        "colab": {
          "base_uri": "https://localhost:8080/"
        },
        "id": "VPLryjHYgrTs",
        "outputId": "103fc36c-e7a0-4639-bfbe-dac710c0828d"
      },
      "execution_count": 46,
      "outputs": [
        {
          "output_type": "stream",
          "name": "stdout",
          "text": [
            "Sum of even numbers: 12\n"
          ]
        }
      ]
    },
    {
      "cell_type": "markdown",
      "source": [
        "Here's a Python function that takes a list of numbers and returns the sum of all even numbers in the list:\n",
        "\n",
        "```python\n",
        "def sum_even_numbers(numbers):\n",
        "    return sum(num for num in numbers if num % 2 == 0)\n",
        "\n",
        "# Example usage:\n",
        "my_list = [1, 2, 3, 4, 5, 6]\n",
        "result = sum_even_numbers(my_list)\n",
        "print(\"Sum of even numbers:\", result)\n",
        "```\n",
        "\n",
        "### How it works:\n",
        "\n",
        "* The function uses a generator expression to filter and sum only the numbers that are divisible by 2 (even numbers).\n",
        "* `num % 2 == 0` checks for evenness.\n",
        "\n",
        "Let me know if you’d like a version that handles non-integer values or includes input validation.\n"
      ],
      "metadata": {
        "id": "JavZpYtQgz6H"
      }
    },
    {
      "cell_type": "markdown",
      "source": [
        "2. second question answer\n",
        "    - Python function that takes a string and returns its reverse:"
      ],
      "metadata": {
        "id": "iv3oR_lvg2rN"
      }
    },
    {
      "cell_type": "code",
      "source": [
        "def reverse_string(s):\n",
        "    return s[::-1]\n",
        "\n",
        "# Example usage:\n",
        "input_str = \"hello\"\n",
        "reversed_str = reverse_string(input_str)\n",
        "print(\"Reversed string:\", reversed_str)\n"
      ],
      "metadata": {
        "colab": {
          "base_uri": "https://localhost:8080/"
        },
        "id": "oTzf5tERhUVG",
        "outputId": "8aadd9d5-5677-4a8e-9eac-994a2ef3fdc6"
      },
      "execution_count": 47,
      "outputs": [
        {
          "output_type": "stream",
          "name": "stdout",
          "text": [
            "Reversed string: olleh\n"
          ]
        }
      ]
    },
    {
      "cell_type": "markdown",
      "source": [
        "**Explanation:**\n",
        "s[::-1] is a slicing technique that reverses the string by stepping through it backwards.\n",
        "\n",
        "Let me know if you'd like this to be case-insensitive, remove spaces, or handle special characters differently."
      ],
      "metadata": {
        "id": "fLZ17ELrhcyZ"
      }
    },
    {
      "cell_type": "markdown",
      "source": [
        "3. Third question answer\n",
        "    - Python function that takes a list of integers and returns a new list with the squares of each number:"
      ],
      "metadata": {
        "id": "5Qcq7TBPhrxZ"
      }
    },
    {
      "cell_type": "code",
      "source": [
        "def square_numbers(numbers):\n",
        "    return [num ** 2 for num in numbers]\n",
        "\n",
        "# Example usage:\n",
        "input_list = [1, 2, 3, 4, 5]\n",
        "squared_list = square_numbers(input_list)\n",
        "print(\"Squared numbers:\", squared_list)\n"
      ],
      "metadata": {
        "colab": {
          "base_uri": "https://localhost:8080/"
        },
        "id": "J5-k3LTViA9W",
        "outputId": "a2042606-3c74-4669-a28e-51dca323e99f"
      },
      "execution_count": 48,
      "outputs": [
        {
          "output_type": "stream",
          "name": "stdout",
          "text": [
            "Squared numbers: [1, 4, 9, 16, 25]\n"
          ]
        }
      ]
    },
    {
      "cell_type": "markdown",
      "source": [
        "This uses a list comprehension to create a new list where each element is the square (num ** 2) of the corresponding element in the input list.\n",
        "\n",
        "Let me know if you want to filter negative numbers or handle input validation!"
      ],
      "metadata": {
        "id": "i2uR5dJAiTd3"
      }
    },
    {
      "cell_type": "markdown",
      "source": [
        "4. Forth question answer.\n",
        "    - A Python function that checks whether a given number between 1 and 200 is prime:"
      ],
      "metadata": {
        "id": "yhQjOOdvilho"
      }
    },
    {
      "cell_type": "markdown",
      "source": [],
      "metadata": {
        "id": "28I-U5wrjlVC"
      }
    },
    {
      "cell_type": "code",
      "source": [
        "def is_prime(n):\n",
        "    if n < 2 or n > 200:\n",
        "        return False  # Not in the range 1 to 200 or less than 2 (not prime)\n",
        "    for i in range(2, int(n**0.5) + 1):\n",
        "        if n % i == 0:\n",
        "            return False\n",
        "    return True\n",
        "\n",
        "# Example usage:\n",
        "for num in range(1, 201):\n",
        "    if is_prime(num):\n",
        "        print(f\"{num} is a prime number.\")\n"
      ],
      "metadata": {
        "colab": {
          "base_uri": "https://localhost:8080/"
        },
        "id": "LXA6eGXLi_WJ",
        "outputId": "2d53f517-6e58-4cb6-b3ae-9879f6d3ce53"
      },
      "execution_count": 49,
      "outputs": [
        {
          "output_type": "stream",
          "name": "stdout",
          "text": [
            "2 is a prime number.\n",
            "3 is a prime number.\n",
            "5 is a prime number.\n",
            "7 is a prime number.\n",
            "11 is a prime number.\n",
            "13 is a prime number.\n",
            "17 is a prime number.\n",
            "19 is a prime number.\n",
            "23 is a prime number.\n",
            "29 is a prime number.\n",
            "31 is a prime number.\n",
            "37 is a prime number.\n",
            "41 is a prime number.\n",
            "43 is a prime number.\n",
            "47 is a prime number.\n",
            "53 is a prime number.\n",
            "59 is a prime number.\n",
            "61 is a prime number.\n",
            "67 is a prime number.\n",
            "71 is a prime number.\n",
            "73 is a prime number.\n",
            "79 is a prime number.\n",
            "83 is a prime number.\n",
            "89 is a prime number.\n",
            "97 is a prime number.\n",
            "101 is a prime number.\n",
            "103 is a prime number.\n",
            "107 is a prime number.\n",
            "109 is a prime number.\n",
            "113 is a prime number.\n",
            "127 is a prime number.\n",
            "131 is a prime number.\n",
            "137 is a prime number.\n",
            "139 is a prime number.\n",
            "149 is a prime number.\n",
            "151 is a prime number.\n",
            "157 is a prime number.\n",
            "163 is a prime number.\n",
            "167 is a prime number.\n",
            "173 is a prime number.\n",
            "179 is a prime number.\n",
            "181 is a prime number.\n",
            "191 is a prime number.\n",
            "193 is a prime number.\n",
            "197 is a prime number.\n",
            "199 is a prime number.\n"
          ]
        }
      ]
    },
    {
      "cell_type": "markdown",
      "source": [
        "Explanation:\n",
        "The function returns False for numbers less than 2 or greater than 200.\n",
        "\n",
        "It checks divisibility from 2 up to the square root of n for efficiency.\n",
        "\n",
        "If no divisors are found, the number is prime.\n",
        "\n",
        "Let me know if you'd like a version that returns all prime numbers in the range instead!"
      ],
      "metadata": {
        "id": "tiwEpPF3jHJT"
      }
    },
    {
      "cell_type": "markdown",
      "source": [
        "5. fifth question answer\n",
        "      -A Python iterator class that generates the Fibonacci sequence up to a specified number of terms:   "
      ],
      "metadata": {
        "id": "uBqVXRSCjobN"
      }
    },
    {
      "cell_type": "code",
      "source": [
        "class FibonacciIterator:\n",
        "    def __init__(self, max_terms):\n",
        "        self.max_terms = max_terms\n",
        "        self.count = 0\n",
        "        self.a = 0\n",
        "        self.b = 1\n",
        "\n",
        "    def __iter__(self):\n",
        "        return self\n",
        "\n",
        "    def __next__(self):\n",
        "        if self.count >= self.max_terms:\n",
        "            raise StopIteration\n",
        "        if self.count == 0:\n",
        "            self.count += 1\n",
        "            return 0\n",
        "        elif self.count == 1:\n",
        "            self.count += 1\n",
        "            return 1\n",
        "        else:\n",
        "            fib = self.a + self.b\n",
        "            self.a, self.b = self.b, fib\n",
        "            self.count += 1\n",
        "            return fib\n",
        "\n",
        "# Example usage:\n",
        "fib_seq = FibonacciIterator(10)\n",
        "for num in fib_seq:\n",
        "    print(num)\n"
      ],
      "metadata": {
        "colab": {
          "base_uri": "https://localhost:8080/"
        },
        "id": "xwe4cqGKj7wn",
        "outputId": "dda89e88-efe7-4eca-a8f6-c9983f386c16"
      },
      "execution_count": 50,
      "outputs": [
        {
          "output_type": "stream",
          "name": "stdout",
          "text": [
            "0\n",
            "1\n",
            "1\n",
            "2\n",
            "3\n",
            "5\n",
            "8\n",
            "13\n",
            "21\n",
            "34\n"
          ]
        }
      ]
    },
    {
      "cell_type": "markdown",
      "source": [
        "Explanation:\n",
        "The class tracks the number of terms generated using self.count.\n",
        "\n",
        "It maintains the last two Fibonacci numbers (self.a and self.b).\n",
        "\n",
        "__iter__() returns the iterator object itself.\n",
        "\n",
        "__next__() generates the next Fibonacci number until the specified limit.\n",
        "\n",
        "Let me know if you'd like a version that generates Fibonacci numbers up to a maximum value instead of a fixed number of terms."
      ],
      "metadata": {
        "id": "CoLwfDXQkA6u"
      }
    },
    {
      "cell_type": "markdown",
      "source": [
        "6. sixth question answer\n",
        "    - a Python generator function that yields the powers of 2 up to a given exponent:"
      ],
      "metadata": {
        "id": "NU3iebslkMUL"
      }
    },
    {
      "cell_type": "code",
      "source": [
        "def powers_of_two(max_exponent):\n",
        "    for exponent in range(max_exponent + 1):\n",
        "        yield 2 ** exponent\n",
        "\n",
        "# Example usage:\n",
        "for power in powers_of_two(5):\n",
        "    print(power)\n"
      ],
      "metadata": {
        "colab": {
          "base_uri": "https://localhost:8080/"
        },
        "id": "cJCE1edDkhby",
        "outputId": "98570dde-71f8-44b5-8cd2-594884f8cd53"
      },
      "execution_count": 51,
      "outputs": [
        {
          "output_type": "stream",
          "name": "stdout",
          "text": [
            "1\n",
            "2\n",
            "4\n",
            "8\n",
            "16\n",
            "32\n"
          ]
        }
      ]
    },
    {
      "cell_type": "markdown",
      "source": [
        "Explanation:\n",
        "The generator uses a for loop to iterate from 0 to max_exponent.\n",
        "\n",
        "yield pauses the function and returns the current power of 2.\n",
        "\n",
        "2 ** exponent calculates the current power of 2.\n",
        "\n",
        "Output for powers_of_two(5) would be:\n",
        "\n",
        "Copy code\n",
        "1\n",
        "2\n",
        "4\n",
        "8\n",
        "16\n",
        "32\n",
        "Let me know if you want the results returned as a list or with additional formatting.\n"
      ],
      "metadata": {
        "id": "TdSoJQjGkmRE"
      }
    },
    {
      "cell_type": "markdown",
      "source": [
        "7. seventh question answer.\n",
        "      -A Python generator function that reads a file line by line and yields each line as a string:"
      ],
      "metadata": {
        "id": "gCPbkfluk52s"
      }
    },
    {
      "cell_type": "code",
      "source": [
        "def read_file_lines(filepath):\n",
        "    with open(filepath, 'r') as file:\n",
        "        for line in file:\n",
        "            yield line.rstrip('\\n')  # Remove trailing newline character\n",
        "\n",
        "# Example usage:\n",
        "# Replace 'example.txt' with the path to your file\n",
        "for line in read_file_lines('example.txt'):\n",
        "    print(line)\n"
      ],
      "metadata": {
        "id": "NUMijqoflh7t"
      },
      "execution_count": null,
      "outputs": []
    },
    {
      "cell_type": "markdown",
      "source": [
        "Explanation:\n",
        "with open(...) ensures the file is properly closed after reading.\n",
        "\n",
        "The for line in file loop reads one line at a time (memory efficient).\n",
        "\n",
        "yield returns each line to the caller.\n",
        "\n",
        ".rstrip('\\n') strips the newline character from the end of each line.\n",
        "\n",
        "Let me know if you want to include empty lines, strip whitespace, or handle large files differently!\n"
      ],
      "metadata": {
        "id": "EAJ7GtMnllFP"
      }
    },
    {
      "cell_type": "markdown",
      "source": [
        "8.eighth question answer\n",
        "  -A lambda function in Python to sort a list of tuples based on the second element of each tuple:"
      ],
      "metadata": {
        "id": "qE-OEzk3lwUD"
      }
    },
    {
      "cell_type": "code",
      "source": [
        "# Example list of tuples\n",
        "tuples_list = [(1, 3), (4, 1), (2, 2), (5, 0)]\n",
        "\n",
        "# Sort based on the second element using a lambda function\n",
        "sorted_list = sorted(tuples_list, key=lambda x: x[1])\n",
        "\n",
        "print(\"Sorted list:\", sorted_list)\n"
      ],
      "metadata": {
        "colab": {
          "base_uri": "https://localhost:8080/"
        },
        "id": "iR_YRjQYl7Ct",
        "outputId": "622a678f-9a54-41c4-f797-e86fe49084e8"
      },
      "execution_count": 53,
      "outputs": [
        {
          "output_type": "stream",
          "name": "stdout",
          "text": [
            "Sorted list: [(5, 0), (4, 1), (2, 2), (1, 3)]\n"
          ]
        }
      ]
    },
    {
      "cell_type": "markdown",
      "source": [
        "9. nineth question answer.\n",
        "      -A Python program that uses the map() function to convert a list of temperatures from Celsius to Fahrenheit:"
      ],
      "metadata": {
        "id": "E1MBIbTRmK68"
      }
    },
    {
      "cell_type": "code",
      "source": [
        "# Function to convert Celsius to Fahrenheit\n",
        "def celsius_to_fahrenheit(celsius):\n",
        "    return (celsius * 9/5) + 32\n",
        "\n",
        "# List of temperatures in Celsius\n",
        "celsius_temps = [0, 20, 37, 100, -10]\n",
        "\n",
        "# Use map() to apply the conversion function to each item in the list\n",
        "fahrenheit_temps = list(map(celsius_to_fahrenheit, celsius_temps))\n",
        "\n",
        "# Print the result\n",
        "print(\"Celsius:\", celsius_temps)\n",
        "print(\"Fahrenheit:\", fahrenheit_temps)\n"
      ],
      "metadata": {
        "colab": {
          "base_uri": "https://localhost:8080/"
        },
        "id": "Iz-Seub9mWar",
        "outputId": "6ee6d5be-d1f0-4224-ca6c-320b8e999523"
      },
      "execution_count": 54,
      "outputs": [
        {
          "output_type": "stream",
          "name": "stdout",
          "text": [
            "Celsius: [0, 20, 37, 100, -10]\n",
            "Fahrenheit: [32.0, 68.0, 98.6, 212.0, 14.0]\n"
          ]
        }
      ]
    },
    {
      "cell_type": "markdown",
      "source": [
        "10 tenth question answer.\n",
        "      -Python program that uses the filter() function to remove all vowels from a given string:"
      ],
      "metadata": {
        "id": "--7Np_S0mgZn"
      }
    },
    {
      "cell_type": "code",
      "source": [
        "# Input string\n",
        "input_str = \"Hello, this is a sample sentence.\"\n",
        "\n",
        "# Define a function that returns True if the character is not a vowel\n",
        "def is_not_vowel(char):\n",
        "    return char.lower() not in 'aeiou'\n",
        "\n",
        "# Use filter() to remove vowels\n",
        "no_vowels = ''.join(filter(is_not_vowel, input_str))\n",
        "\n",
        "# Print the result\n",
        "print(\"Original String: \", input_str)\n",
        "print(\"Without Vowels:  \", no_vowels)\n"
      ],
      "metadata": {
        "colab": {
          "base_uri": "https://localhost:8080/"
        },
        "id": "Cf41Yqgfmpim",
        "outputId": "02ef4e2c-fe96-4db9-cd9e-1ae9ff9577f0"
      },
      "execution_count": 55,
      "outputs": [
        {
          "output_type": "stream",
          "name": "stdout",
          "text": [
            "Original String:  Hello, this is a sample sentence.\n",
            "Without Vowels:   Hll, ths s  smpl sntnc.\n"
          ]
        }
      ]
    },
    {
      "cell_type": "markdown",
      "source": [
        "11 eleventh question answer.\n",
        "    - Python Program using lambda and map"
      ],
      "metadata": {
        "id": "nsP-CxEym3Lx"
      }
    },
    {
      "cell_type": "code",
      "source": [
        "# Sample list of orders\n",
        "orders = [\n",
        "    [34587, \"Learning Python\", 1, 40.95],\n",
        "    [98762, \"Programming Python\", 5, 56.80],\n",
        "    [77226, \"Head First Python\", 3, 32.95],\n",
        "    [88112, \"Einführung in Python\", 3, 24.99]\n",
        "]\n",
        "\n",
        "# Use map and lambda to compute final prices with €10 fee if under €100\n",
        "final_orders = list(map(\n",
        "    lambda order: (\n",
        "        order[0],\n",
        "        round(order[2] * order[3] + (10 if order[2] * order[3] < 100 else 0), 2)\n",
        "    ),\n",
        "    orders\n",
        "))\n",
        "\n",
        "# Output the result\n",
        "print(final_orders)\n"
      ],
      "metadata": {
        "colab": {
          "base_uri": "https://localhost:8080/"
        },
        "id": "MDTLoZMTnIZK",
        "outputId": "a0ae3581-6d59-4277-ab56-018e4a9a3377"
      },
      "execution_count": 56,
      "outputs": [
        {
          "output_type": "stream",
          "name": "stdout",
          "text": [
            "[(34587, 50.95), (98762, 284.0), (77226, 108.85), (88112, 84.97)]\n"
          ]
        }
      ]
    }
  ]
}